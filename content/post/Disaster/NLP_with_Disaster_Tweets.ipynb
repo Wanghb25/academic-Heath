{
 "cells": [
  {
   "cell_type": "code",
   "execution_count": 1,
   "metadata": {},
   "outputs": [
    {
     "name": "stderr",
     "output_type": "stream",
     "text": [
      "/Users/faith/anaconda3/envs/tensorflow/lib/python3.6/site-packages/h5py/__init__.py:36: FutureWarning: Conversion of the second argument of issubdtype from `float` to `np.floating` is deprecated. In future, it will be treated as `np.float64 == np.dtype(float).type`.\n",
      "  from ._conv import register_converters as _register_converters\n",
      "Using TensorFlow backend.\n",
      "/Users/faith/anaconda3/envs/tensorflow/lib/python3.6/site-packages/tensorflow/python/framework/dtypes.py:519: FutureWarning: Passing (type, 1) or '1type' as a synonym of type is deprecated; in a future version of numpy, it will be understood as (type, (1,)) / '(1,)type'.\n",
      "  _np_qint8 = np.dtype([(\"qint8\", np.int8, 1)])\n",
      "/Users/faith/anaconda3/envs/tensorflow/lib/python3.6/site-packages/tensorflow/python/framework/dtypes.py:520: FutureWarning: Passing (type, 1) or '1type' as a synonym of type is deprecated; in a future version of numpy, it will be understood as (type, (1,)) / '(1,)type'.\n",
      "  _np_quint8 = np.dtype([(\"quint8\", np.uint8, 1)])\n",
      "/Users/faith/anaconda3/envs/tensorflow/lib/python3.6/site-packages/tensorflow/python/framework/dtypes.py:521: FutureWarning: Passing (type, 1) or '1type' as a synonym of type is deprecated; in a future version of numpy, it will be understood as (type, (1,)) / '(1,)type'.\n",
      "  _np_qint16 = np.dtype([(\"qint16\", np.int16, 1)])\n",
      "/Users/faith/anaconda3/envs/tensorflow/lib/python3.6/site-packages/tensorflow/python/framework/dtypes.py:522: FutureWarning: Passing (type, 1) or '1type' as a synonym of type is deprecated; in a future version of numpy, it will be understood as (type, (1,)) / '(1,)type'.\n",
      "  _np_quint16 = np.dtype([(\"quint16\", np.uint16, 1)])\n",
      "/Users/faith/anaconda3/envs/tensorflow/lib/python3.6/site-packages/tensorflow/python/framework/dtypes.py:523: FutureWarning: Passing (type, 1) or '1type' as a synonym of type is deprecated; in a future version of numpy, it will be understood as (type, (1,)) / '(1,)type'.\n",
      "  _np_qint32 = np.dtype([(\"qint32\", np.int32, 1)])\n",
      "/Users/faith/anaconda3/envs/tensorflow/lib/python3.6/site-packages/tensorflow/python/framework/dtypes.py:528: FutureWarning: Passing (type, 1) or '1type' as a synonym of type is deprecated; in a future version of numpy, it will be understood as (type, (1,)) / '(1,)type'.\n",
      "  np_resource = np.dtype([(\"resource\", np.ubyte, 1)])\n"
     ]
    }
   ],
   "source": [
    "import numpy as np \n",
    "import pandas as pd\n",
    "import re\n",
    "import nltk\n",
    "from nltk.stem import PorterStemmer\n",
    "ps = PorterStemmer()\n",
    "from nltk.stem.lancaster import LancasterStemmer\n",
    "lc = LancasterStemmer()\n",
    "from nltk.stem import SnowballStemmer\n",
    "sb = SnowballStemmer(\"english\")\n",
    "from nltk.corpus import stopwords\n",
    "import string as s\n",
    "import matplotlib.pyplot as plt\n",
    "from sklearn.model_selection import cross_val_score\n",
    "from sklearn.linear_model import LogisticRegression\n",
    "from sklearn.ensemble import RandomForestClassifier\n",
    "from sklearn.neighbors import KNeighborsClassifier\n",
    "from sklearn.naive_bayes import GaussianNB\n",
    "from sklearn.naive_bayes import MultinomialNB\n",
    "import spacy\n",
    "import os\n",
    "import gc\n",
    "from keras.preprocessing.text import Tokenizer\n",
    "from keras.preprocessing.sequence import pad_sequences\n",
    "from keras.layers import Dense, Input, LSTM, Embedding, Dropout, Activation, GRU, Conv1D, BatchNormalization\n",
    "from keras.layers import Bidirectional, GlobalMaxPooling1D, Concatenate, SpatialDropout1D\n",
    "from keras.optimizers import Adam\n",
    "from keras.models import Sequential\n",
    "from keras import initializers, regularizers, constraints, optimizers, layers\n",
    "from keras.initializers import Constant\n",
    "import pickle\n",
    "import seaborn as sns\n",
    "sns.set_style(\"white\")"
   ]
  },
  {
   "cell_type": "code",
   "execution_count": 2,
   "metadata": {},
   "outputs": [],
   "source": [
    "train_df=pd.read_csv('/Users/faith/Downloads/nlp-getting-started/train.csv')\n",
    "test_df=pd.read_csv('/Users/faith/Downloads/nlp-getting-started/test.csv')\n",
    "\n",
    "# Data Information in train and test files\n",
    "def data_info(d):\n",
    "    print('number of variables: ',d.shape[1])\n",
    "    print('number of tweets: ',d.shape[0])\n",
    "    print('variables names: ')\n",
    "    print(d.columns)\n",
    "    print('variables data-types: ')\n",
    "    print(d.dtypes)\n",
    "    print('missing values: ')\n",
    "    c=d.isnull().sum()\n",
    "    print(c[c>0])"
   ]
  },
  {
   "cell_type": "code",
   "execution_count": 3,
   "metadata": {},
   "outputs": [
    {
     "name": "stdout",
     "output_type": "stream",
     "text": [
      "number of variables:  5\n",
      "number of tweets:  7613\n",
      "variables names: \n",
      "Index(['id', 'keyword', 'location', 'text', 'target'], dtype='object')\n",
      "variables data-types: \n",
      "id           int64\n",
      "keyword     object\n",
      "location    object\n",
      "text        object\n",
      "target       int64\n",
      "dtype: object\n",
      "missing values: \n",
      "keyword       61\n",
      "location    2534\n",
      "dtype: int64\n"
     ]
    }
   ],
   "source": [
    "data_info(train_df)"
   ]
  },
  {
   "cell_type": "code",
   "execution_count": 4,
   "metadata": {},
   "outputs": [
    {
     "name": "stdout",
     "output_type": "stream",
     "text": [
      "number of variables:  4\n",
      "number of tweets:  3263\n",
      "variables names: \n",
      "Index(['id', 'keyword', 'location', 'text'], dtype='object')\n",
      "variables data-types: \n",
      "id           int64\n",
      "keyword     object\n",
      "location    object\n",
      "text        object\n",
      "dtype: object\n",
      "missing values: \n",
      "keyword       26\n",
      "location    1105\n",
      "dtype: int64\n"
     ]
    }
   ],
   "source": [
    "data_info(test_df)"
   ]
  },
  {
   "cell_type": "code",
   "execution_count": 5,
   "metadata": {},
   "outputs": [
    {
     "data": {
      "image/png": "[encoded data removed]",
      "text/plain": [
       "<Figure size 576x576 with 1 Axes>"
      ]
     },
     "metadata": {},
     "output_type": "display_data"
    }
   ],
   "source": [
    "#Graphical display of information distribution\n",
    "plt.figure(figsize=(8,8))\n",
    "train_df['target'].value_counts().plot.pie(autopct='%.2f%%')\n",
    "plt.title('Disaster or Not Distribution')\n",
    "plt.ylabel('')\n",
    "plt.show()"
   ]
  },
  {
   "cell_type": "code",
   "execution_count": 6,
   "metadata": {},
   "outputs": [],
   "source": [
    "train_text = train_df['text']\n",
    "test_text = test_df['text']\n",
    "target = train_df['target'].values\n",
    "\n",
    "# combine the text from the training dataset and the test dataset\n",
    "text_list = pd.concat([train_text, test_text])\n",
    "\n",
    "# number of training samples\n",
    "num_train_data = target.shape[0]"
   ]
  },
  {
   "cell_type": "code",
   "execution_count": 7,
   "metadata": {},
   "outputs": [],
   "source": [
    "text_list = text_list.apply(lambda x: re.sub('&amp;', ' and ', x))\n",
    "text_list = text_list.apply(lambda x: re.sub('w/', 'with', x))"
   ]
  },
  {
   "cell_type": "code",
   "execution_count": 8,
   "metadata": {},
   "outputs": [],
   "source": [
    "# preprocessing by using spacy\n",
    "nlp = spacy.load('en_core_web_lg')\n",
    "nlp.vocab.add_flag(lambda s: s.lower() in spacy.lang.en.stop_words.STOP_WORDS, spacy.attrs.IS_STOP)\n",
    "docs = nlp.pipe(text_list, n_threads = 2)\n",
    "\n",
    "# convert words to integers and save the results in word_sequences\n",
    "word_sequences = []\n",
    "\n",
    "# store the mapping in word_dict\n",
    "word_dict = {}\n",
    "lemma_dict = {}\n",
    "\n",
    "# store the frequence of each word\n",
    "word_freq = {}\n",
    "\n",
    "word_index = 1\n",
    "for doc in docs:\n",
    "    word_seq = []\n",
    "    for word in doc:\n",
    "        try:\n",
    "            word_freq[word.text] += 1\n",
    "        except KeyError:\n",
    "            word_freq[word.text] = 1\n",
    "        if (word.text not in word_dict) and (word.pos_ is not 'PUNCT'):\n",
    "            word_dict[word.text] = word_index\n",
    "            word_index += 1\n",
    "            lemma_dict[word.text] = word.lemma_\n",
    "            \n",
    "        # do not include punctuations in word_dict\n",
    "        # this essentially removes hashtags and mentions\n",
    "        if word.pos_ is not 'PUNCT':\n",
    "            word_seq.append(word_dict[word.text])\n",
    "    word_sequences.append(word_seq)\n",
    "del docs\n",
    "gc.collect()\n",
    "\n",
    "# maximum number of words per tweet in the dataset\n",
    "max_length = max([len(s) for s in word_sequences])\n",
    "\n",
    "# number of unique words\n",
    "# add 1 because 0 is reserved for padding\n",
    "vocab_size = len(word_dict) + 1\n",
    "\n",
    "train_word_sequences = word_sequences[:num_train_data]\n",
    "test_word_sequences = word_sequences[num_train_data:]\n",
    "\n",
    "# add zeros at the end of each word sequence so that their lengths are fixed at max_len\n",
    "train_word_sequences = pad_sequences(train_word_sequences, maxlen=max_length, padding='post')\n",
    "test_word_sequences = pad_sequences(test_word_sequences, maxlen=max_length, padding='post')"
   ]
  },
  {
   "cell_type": "code",
   "execution_count": 9,
   "metadata": {},
   "outputs": [],
   "source": [
    "#embedding_matrix\n",
    "def load_embeddings(embeddings_index, word_dict, lemma_dict):\n",
    "    embed_size = 300\n",
    "    vocab_size = len(word_dict) + 1\n",
    "    embedding_matrix = np.zeros((vocab_size, embed_size), dtype=np.float32)\n",
    "    unknown_vector = np.zeros((embed_size,), dtype=np.float32) - 1.\n",
    "    for key in word_dict:\n",
    "        word = key\n",
    "        embedding_vector = embeddings_index.get(word)\n",
    "        if embedding_vector is not None:\n",
    "            embedding_matrix[word_dict[key]] = embedding_vector\n",
    "            continue\n",
    "        word = key.lower()\n",
    "        embedding_vector = embeddings_index.get(word)\n",
    "        if embedding_vector is not None:\n",
    "            embedding_matrix[word_dict[key]] = embedding_vector\n",
    "            continue\n",
    "        word = key.upper()\n",
    "        embedding_vector = embeddings_index.get(word)\n",
    "        if embedding_vector is not None:\n",
    "            embedding_matrix[word_dict[key]] = embedding_vector\n",
    "            continue\n",
    "        word = key.capitalize()\n",
    "        embedding_vector = embeddings_index.get(word)\n",
    "        if embedding_vector is not None:\n",
    "            embedding_matrix[word_dict[key]] = embedding_vector\n",
    "            continue\n",
    "        word = ps.stem(key)\n",
    "        embedding_vector = embeddings_index.get(word)\n",
    "        if embedding_vector is not None:\n",
    "            embedding_matrix[word_dict[key]] = embedding_vector\n",
    "            continue\n",
    "        word = lc.stem(key)\n",
    "        embedding_vector = embeddings_index.get(word)\n",
    "        if embedding_vector is not None:\n",
    "            embedding_matrix[word_dict[key]] = embedding_vector\n",
    "            continue\n",
    "        word = sb.stem(key)\n",
    "        embedding_vector = embeddings_index.get(word)\n",
    "        if embedding_vector is not None:\n",
    "            embedding_matrix[word_dict[key]] = embedding_vector\n",
    "            continue\n",
    "        word = lemma_dict[key]\n",
    "        embedding_vector = embeddings_index.get(word)\n",
    "        if embedding_vector is not None:\n",
    "            embedding_matrix[word_dict[key]] = embedding_vector\n",
    "            continue\n",
    "        embedding_matrix[word_dict[key]] = unknown_vector                    \n",
    "    return embedding_matrix"
   ]
  },
  {
   "cell_type": "code",
   "execution_count": 10,
   "metadata": {},
   "outputs": [],
   "source": [
    "def load_pickle_file(path):\n",
    "    with open(path, 'rb') as f:\n",
    "        file = pickle.load(f)\n",
    "    return file\n",
    "\n",
    "# the asterisk below allows the function to accept an arbitrary number of inputs\n",
    "# convert the embedding file into a Python dictionary\n",
    "def get_coefs(word,*arr): \n",
    "    return word, np.asarray(arr, dtype='float32')\n",
    "\n",
    "#train word vector by using glove                                                  \n",
    "path_glove = '/Users/faith/Downloads/glove.840B.300d.pkl'\n",
    "path_paragram = '/Users/faith/Downloads/paragram_300_sl999.txt'\n",
    "\n",
    "embeddings_index_glove = load_pickle_file(path_glove)\n",
    "# the asterisks below unpacks the list\n",
    "embeddings_index_paragram = dict(get_coefs(*o.split(\" \")) for o in open(path_paragram, encoding=\"utf8\", errors='ignore') if len(o) > 100)\n",
    "\n",
    "embedding_matrix_glove = load_embeddings(embeddings_index_glove, word_dict, lemma_dict)\n",
    "embedding_matrix_paragram = load_embeddings(embeddings_index_paragram, word_dict, lemma_dict)\n",
    "\n",
    "# stack the two pre-trained embedding matrices\n",
    "embedding_matrix = np.concatenate((embedding_matrix_glove, embedding_matrix_paragram), axis=1)"
   ]
  },
  {
   "cell_type": "code",
   "execution_count": 11,
   "metadata": {},
   "outputs": [],
   "source": [
    "embedding_size = 600\n",
    "learning_rate = 0.001\n",
    "batch_size = 32\n",
    "num_epoch = 5\n",
    "\n",
    "#build model\n",
    "def build_model(embedding_matrix, vocab_size, max_length, embedding_size=300):\n",
    "    model = Sequential([\n",
    "        Embedding(vocab_size, embedding_size, embeddings_initializer=Constant(embedding_matrix), \n",
    "                  input_length=max_length, trainable=False),\n",
    "        SpatialDropout1D(0.3),\n",
    "        Bidirectional(LSTM(128, return_sequences=True)),\n",
    "        Conv1D(64, kernel_size=2), \n",
    "        GlobalMaxPooling1D(),\n",
    "        Dense(1, activation='sigmoid')\n",
    "    ])\n",
    "    model.compile(optimizer=Adam(lr=0.001), loss='binary_crossentropy', metrics=['accuracy'])\n",
    "    return model"
   ]
  },
  {
   "cell_type": "code",
   "execution_count": 12,
   "metadata": {},
   "outputs": [
    {
     "name": "stdout",
     "output_type": "stream",
     "text": [
      "Epoch 1/5\n",
      " - 31s - loss: 0.4662 - acc: 0.7867\n",
      "Epoch 2/5\n",
      " - 28s - loss: 0.3933 - acc: 0.8299\n",
      "Epoch 3/5\n",
      " - 27s - loss: 0.3503 - acc: 0.8499\n",
      "Epoch 4/5\n",
      " - 26s - loss: 0.3091 - acc: 0.8689\n",
      "Epoch 5/5\n",
      " - 27s - loss: 0.2678 - acc: 0.8914\n",
      "Epoch 1/5\n",
      " - 36s - loss: 0.4686 - acc: 0.7879\n",
      "Epoch 2/5\n",
      " - 31s - loss: 0.3927 - acc: 0.8302\n",
      "Epoch 3/5\n",
      " - 27s - loss: 0.3454 - acc: 0.8531\n",
      "Epoch 4/5\n",
      " - 27s - loss: 0.3079 - acc: 0.8753\n",
      "Epoch 5/5\n",
      " - 27s - loss: 0.2585 - acc: 0.8978\n",
      "Epoch 1/5\n",
      " - 34s - loss: 0.4695 - acc: 0.7823\n",
      "Epoch 2/5\n",
      " - 27s - loss: 0.3906 - acc: 0.8306\n",
      "Epoch 3/5\n",
      " - 27s - loss: 0.3504 - acc: 0.8518\n",
      "Epoch 4/5\n",
      " - 27s - loss: 0.3097 - acc: 0.8726\n",
      "Epoch 5/5\n",
      " - 27s - loss: 0.2674 - acc: 0.8877\n",
      "Epoch 1/5\n",
      " - 31s - loss: 0.4692 - acc: 0.7795\n",
      "Epoch 2/5\n",
      " - 27s - loss: 0.3957 - acc: 0.8269\n",
      "Epoch 3/5\n",
      " - 27s - loss: 0.3522 - acc: 0.8509\n",
      "Epoch 4/5\n",
      " - 26s - loss: 0.3125 - acc: 0.8751\n",
      "Epoch 5/5\n",
      " - 26s - loss: 0.2607 - acc: 0.8922\n",
      "Epoch 1/5\n",
      " - 30s - loss: 0.4745 - acc: 0.7797\n",
      "Epoch 2/5\n",
      " - 26s - loss: 0.3912 - acc: 0.8315\n",
      "Epoch 3/5\n",
      " - 27s - loss: 0.3506 - acc: 0.8522\n",
      "Epoch 4/5\n",
      " - 26s - loss: 0.3106 - acc: 0.8734\n",
      "Epoch 5/5\n",
      " - 28s - loss: 0.2621 - acc: 0.8975\n"
     ]
    }
   ],
   "source": [
    "reps = 5\n",
    "pred_prob = np.zeros((len(test_word_sequences),), dtype=np.float32)\n",
    "for r in range(reps):\n",
    "    model = build_model(embedding_matrix, vocab_size, max_length, embedding_size)\n",
    "    model.fit(train_word_sequences, target, batch_size=batch_size, epochs=num_epoch, verbose=2)\n",
    "    pred_prob += np.squeeze(model.predict(test_word_sequences, batch_size=batch_size, verbose=2) / reps)"
   ]
  },
  {
   "cell_type": "code",
   "execution_count": 22,
   "metadata": {},
   "outputs": [],
   "source": [
    "submission = pd.read_csv('/Users/faith/Downloads/nlp-getting-started/sample_submission.csv')\n",
    "submission['target'] = pred_prob.round().astype(int)\n",
    "submission.to_csv('/Users/faith/Downloads/submission.csv', index=False)"
   ]
  },
  {
   "cell_type": "code",
   "execution_count": null,
   "metadata": {},
   "outputs": [],
   "source": []
  }
 ],
 "metadata": {
  "kernelspec": {
   "display_name": "Python 3",
   "language": "python",
   "name": "python3"
  },
  "language_info": {
   "codemirror_mode": {
    "name": "ipython",
    "version": 3
   },
   "file_extension": ".py",
   "mimetype": "text/x-python",
   "name": "python",
   "nbconvert_exporter": "python",
   "pygments_lexer": "ipython3",
   "version": "3.6.8"
  }
 },
 "nbformat": 4,
 "nbformat_minor": 2
}
