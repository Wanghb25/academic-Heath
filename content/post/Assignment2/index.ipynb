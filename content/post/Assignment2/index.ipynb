{
 "cells": [
  {
   "cell_type": "code",
   "execution_count": 22,
   "metadata": {},
   "outputs": [],
   "source": [
    "# import numpy as np\n",
    "import random\n",
    "import operator\n",
    "import math\n",
    "from collections import Counter"
   ]
  },
  {
   "cell_type": "code",
   "execution_count": 71,
   "metadata": {},
   "outputs": [],
   "source": [
    "# split data\n",
    "def split(data,ratio=0.2):\n",
    "    n_total = len(data)\n",
    "    offset = int(n_total * ratio)\n",
    "    random.shuffle(data)\n",
    "    list_1 = data[:offset]\n",
    "    list_2 = data[offset:]\n",
    "    return list_1,list_2\n",
    "\n",
    "# calculate euclidean distance\n",
    "def euc_distance(a, b, n=4):\n",
    "    distance = 0\n",
    "    for i in range(n):      \n",
    "        distance += pow((float(a.split()[i]) - float(b.split()[i])), 2) \n",
    "    return math.sqrt(distance)\n",
    "\n",
    "# calculate normalized euclidean distance\n",
    "def normalized_euclidean(a, b, n=4):\n",
    "    sumnum = 0\n",
    "    for i in range(n):\n",
    "        avg = (float(a.split()[i]) - float(b.split()[i])) / 2\n",
    "        si = ((float(a.split()[i]) - avg) ** 2 + (float(b.split()[i]) - avg) ** 2) ** 0.5\n",
    "        sumnum += ((float(a.split()[i]) - float(b.split()[i])) / si) ** 2\n",
    "    return sumnum ** 0.5\n",
    "\n",
    "# calculate cosine similarity\n",
    "def cos_similarity(a, b, n=4):\n",
    "    mult=0\n",
    "    x_norm=0\n",
    "    y_norm=0 \n",
    "    sim = 0\n",
    "\n",
    "    for i in range(n):\n",
    "        mult += float(a.split()[i]) * float(b.split()[i])\n",
    "        x_norm += float(a.split()[i]) * float(a.split()[i])\n",
    "        y_norm += float(b.split()[i]) * float(b.split()[i])\n",
    "    sim = mult / math.sqrt(x_norm * y_norm)\n",
    "    return sim\n",
    "\n",
    "def kNN_euc_distance(trainSet, testInstance, k):\n",
    "    distances = []\n",
    "    length = len(testInstance)-1\n",
    "    for i in range(len(trainSet)):\n",
    "        dist = euc_distance(trainSet[i], testInstance)\n",
    "        distances.append((trainSet[i], dist))\n",
    "    distances.sort(key = operator.itemgetter(1))\n",
    "    candidate = []\n",
    "    for j in range(k):\n",
    "        candidate.append(distances[j][0])\n",
    "    return candidate\n",
    "\n",
    "def kNN_cos_similarity(trainSet, testInstance, k):\n",
    "    distances = []\n",
    "    length = len(testInstance)-1\n",
    "    for i in range(len(trainSet)):\n",
    "        dist = cos_similarity(trainSet[i], testInstance)\n",
    "        distances.append((trainSet[i], dist))\n",
    "    distances.sort(key = operator.itemgetter(1), reverse = True)\n",
    "    candidate = []\n",
    "    for j in range(k):\n",
    "        candidate.append(distances[j][0])\n",
    "    return candidate\n",
    "\n",
    "def kNN_normalized_euclidean(trainSet, testInstance, k):\n",
    "    distances = []\n",
    "    length = len(testInstance)-1\n",
    "    for i in range(len(trainSet)):\n",
    "        dist = normalized_euclidean(trainSet[i], testInstance)\n",
    "        distances.append((trainSet[i], dist))\n",
    "    distances.sort(key = operator.itemgetter(1))\n",
    "    candidate = []\n",
    "    for j in range(k):\n",
    "        candidate.append(distances[j][0])\n",
    "    return candidate\n",
    "\n",
    "# vote\n",
    "def voteResult(candidate):\n",
    "    votes = {}\n",
    "    for i in range(len(candidate)):\n",
    "        label = candidate[i].split()[4]\n",
    "        if label in votes:\n",
    "            votes[label] += 1\n",
    "        else:\n",
    "            votes[label] = 1\n",
    "    votes_sorted = sorted(votes.items(), key = operator.itemgetter(1), reverse = True)\n",
    "    return votes_sorted[0][0]\n"
   ]
  },
  {
   "cell_type": "code",
   "execution_count": 77,
   "metadata": {},
   "outputs": [],
   "source": [
    "file = 'iris.data'\n",
    "f = open(file, 'r')\n",
    "lines = f.readlines()\n",
    "\n",
    "testSet,devSet = split(lines)"
   ]
  },
  {
   "cell_type": "code",
   "execution_count": 111,
   "metadata": {},
   "outputs": [
    {
     "name": "stdout",
     "output_type": "stream",
     "text": [
      "96.66666666666667%\n",
      "93.33333333333333%\n",
      "96.66666666666667%\n"
     ]
    }
   ],
   "source": [
    "# k = 1\n",
    "# euclidean distance\n",
    "correct_euc1 = 0\n",
    "accuracy_euc1 = 0\n",
    "for i in range(len(testSet)):\n",
    "    result = kNN_euc_distance(devSet, testSet[i], 1)\n",
    "    res = voteResult(result)\n",
    "    if res == testSet[i].split()[4]:\n",
    "        correct_euc1 += 1\n",
    "accuracy_euc1 = correct_euc1/len(testSet) * 100\n",
    "print(str(accuracy_euc1) + '%')\n",
    "\n",
    "# normalized_euclidean distance\n",
    "correct_nor1 = 0\n",
    "accuracy_nor1 = 0\n",
    "for i in range(len(testSet)):\n",
    "    result = kNN_normalized_euclidean(devSet, testSet[i], 1)\n",
    "    res = voteResult(result)\n",
    "    if res == testSet[i].split()[4]:\n",
    "        correct_nor1 += 1\n",
    "accuracy_nor1 = correct_nor1/len(testSet) * 100\n",
    "print(str(accuracy_nor1) + '%')\n",
    "\n",
    "# cosine_distance\n",
    "correct_cos1 = 0\n",
    "accuracy_cos1 = 0\n",
    "for i in range(len(testSet)):\n",
    "    result = kNN_cos_similarity(devSet, testSet[i], 1)\n",
    "    res = voteResult(result)\n",
    "    if res == testSet[i].split()[4]:\n",
    "        correct_cos1 += 1\n",
    "accuracy_cos1 = correct_cos1/len(testSet) * 100\n",
    "print(str(accuracy_cos1) + '%')"
   ]
  },
  {
   "cell_type": "code",
   "execution_count": 112,
   "metadata": {},
   "outputs": [
    {
     "name": "stdout",
     "output_type": "stream",
     "text": [
      "96.66666666666667%\n",
      "93.33333333333333%\n",
      "100.0%\n"
     ]
    }
   ],
   "source": [
    "# k = 3\n",
    "# euclidean distance\n",
    "correct_euc3 = 0\n",
    "accuracy_euc3 = 0\n",
    "for i in range(len(testSet)):\n",
    "    result = kNN_euc_distance(devSet, testSet[i], 3)\n",
    "    res = voteResult(result)\n",
    "    if res == testSet[i].split()[4]:\n",
    "        correct_euc3 += 1\n",
    "accuracy_euc3 = correct_euc3/len(testSet) * 100\n",
    "print(str(accuracy_euc3) + '%')\n",
    "\n",
    "# normalized_euclidean distance\n",
    "correct_nor3 = 0\n",
    "accuracy_nor3 = 0\n",
    "for i in range(len(testSet)):\n",
    "    result = kNN_normalized_euclidean(devSet, testSet[i], 3)\n",
    "    res = voteResult(result)\n",
    "    if res == testSet[i].split()[4]:\n",
    "        correct_nor3 += 1\n",
    "accuracy_nor3 = correct_nor3/len(testSet) * 100\n",
    "print(str(accuracy_nor3) + '%')\n",
    "\n",
    "# cosine_distance\n",
    "correct_cos3 = 0\n",
    "accuracy_cos3 = 0\n",
    "for i in range(len(testSet)):\n",
    "    result = kNN_cos_similarity(devSet, testSet[i], 3)\n",
    "    res = voteResult(result)\n",
    "    if res == testSet[i].split()[4]:\n",
    "        correct_cos3 += 1\n",
    "accuracy_cos3 = correct_cos3/len(testSet) * 100\n",
    "print(str(accuracy_cos3) + '%')"
   ]
  },
  {
   "cell_type": "code",
   "execution_count": 113,
   "metadata": {},
   "outputs": [
    {
     "name": "stdout",
     "output_type": "stream",
     "text": [
      "96.66666666666667%\n",
      "96.66666666666667%\n",
      "100.0%\n"
     ]
    }
   ],
   "source": [
    "# k = 5\n",
    "# euclidean distance\n",
    "correct_euc5 = 0\n",
    "accuracy_euc5 = 0\n",
    "for i in range(len(testSet)):\n",
    "    result = kNN_euc_distance(devSet, testSet[i], 5)\n",
    "    res = voteResult(result)\n",
    "    if res == testSet[i].split()[4]:\n",
    "        correct_euc5 += 1\n",
    "accuracy_euc5 = correct_euc5/len(testSet) * 100\n",
    "print(str(accuracy_euc5) + '%')\n",
    "\n",
    "# normalized_euclidean distance\n",
    "correct_nor5 = 0\n",
    "accuracy_nor5 = 0\n",
    "for i in range(len(testSet)):\n",
    "    result = kNN_normalized_euclidean(devSet, testSet[i], 5)\n",
    "    res = voteResult(result)\n",
    "    if res == testSet[i].split()[4]:\n",
    "        correct_nor5 += 1\n",
    "accuracy_nor5 = correct_nor5/len(testSet) * 100\n",
    "print(str(accuracy_nor5) + '%')\n",
    "\n",
    "# cosine_distance\n",
    "correct_cos5 = 0\n",
    "accuracy_cos5 = 0\n",
    "for i in range(len(testSet)):\n",
    "    result = kNN_cos_similarity(devSet, testSet[i], 5)\n",
    "    res = voteResult(result)\n",
    "    if res == testSet[i].split()[4]:\n",
    "        correct_cos5 += 1\n",
    "accuracy_cos5 = correct_cos5/len(testSet) * 100\n",
    "print(str(accuracy_cos5) + '%')"
   ]
  },
  {
   "cell_type": "code",
   "execution_count": 114,
   "metadata": {},
   "outputs": [
    {
     "name": "stdout",
     "output_type": "stream",
     "text": [
      "93.33333333333333%\n",
      "96.66666666666667%\n",
      "100.0%\n"
     ]
    }
   ],
   "source": [
    "# k = 7\n",
    "# euclidean distance\n",
    "correct_euc7 = 0\n",
    "accuracy_euc7 = 0\n",
    "for i in range(len(testSet)):\n",
    "    result = kNN_euc_distance(devSet, testSet[i], 7)\n",
    "    res = voteResult(result)\n",
    "    if res == testSet[i].split()[4]:\n",
    "        correct_euc7 += 1\n",
    "accuracy_euc7 = correct_euc7/len(testSet) * 100\n",
    "print(str(accuracy_euc7) + '%')\n",
    "\n",
    "# normalized_euclidean distance\n",
    "correct_nor7 = 0\n",
    "accuracy_nor7 = 0\n",
    "for i in range(len(testSet)):\n",
    "    result = kNN_normalized_euclidean(devSet, testSet[i], 7)\n",
    "    res = voteResult(result)\n",
    "    if res == testSet[i].split()[4]:\n",
    "        correct_nor7 += 1\n",
    "accuracy_nor7 = correct_nor7/len(testSet) * 100\n",
    "print(str(accuracy_nor7) + '%')\n",
    "\n",
    "# cosine_distance\n",
    "correct_cos7 = 0\n",
    "accuracy_cos7 = 0\n",
    "for i in range(len(testSet)):\n",
    "    result = kNN_cos_similarity(devSet, testSet[i], 7)\n",
    "    res = voteResult(result)\n",
    "    if res == testSet[i].split()[4]:\n",
    "        correct_cos7 += 1\n",
    "accuracy_cos7 = correct_cos7/len(testSet) * 100\n",
    "print(str(accuracy_cos7) + '%')"
   ]
  },
  {
   "cell_type": "code",
   "execution_count": 115,
   "metadata": {},
   "outputs": [
    {
     "name": "stdout",
     "output_type": "stream",
     "text": [
      "93.33333333333333%\n",
      "93.33333333333333%\n",
      "100.0%\n"
     ]
    }
   ],
   "source": [
    "# k = 9\n",
    "# euclidean distance\n",
    "correct_euc9 = 0\n",
    "accuracy_euc9 = 0\n",
    "for i in range(len(testSet)):\n",
    "    result = kNN_euc_distance(devSet, testSet[i], 9)\n",
    "    res = voteResult(result)\n",
    "    if res == testSet[i].split()[4]:\n",
    "        correct_euc9 += 1\n",
    "accuracy_euc9 = correct_euc9/len(testSet) * 100\n",
    "print(str(accuracy_euc9) + '%')\n",
    "\n",
    "# normalized_euclidean distance\n",
    "correct_nor9 = 0\n",
    "accuracy_nor9 = 0\n",
    "for i in range(len(testSet)):\n",
    "    result = kNN_normalized_euclidean(devSet, testSet[i], 9)\n",
    "    res = voteResult(result)\n",
    "    if res == testSet[i].split()[4]:\n",
    "        correct_nor9 += 1\n",
    "accuracy_nor9 = correct_nor9/len(testSet) * 100\n",
    "print(str(accuracy_nor9) + '%')\n",
    "\n",
    "# cosine_distance\n",
    "correct_cos9 = 0\n",
    "accuracy_cos9 = 0\n",
    "for i in range(len(testSet)):\n",
    "    result = kNN_cos_similarity(devSet, testSet[i], 9)\n",
    "    res = voteResult(result)\n",
    "    if res == testSet[i].split()[4]:\n",
    "        correct_cos9 += 1\n",
    "accuracy_cos9 = correct_cos9/len(testSet) * 100\n",
    "print(str(accuracy_cos9) + '%')"
   ]
  },
  {
   "cell_type": "code",
   "execution_count": 116,
   "metadata": {},
   "outputs": [
    {
     "name": "stdout",
     "output_type": "stream",
     "text": [
      "93.33333333333333%\n",
      "93.33333333333333%\n",
      "100.0%\n"
     ]
    }
   ],
   "source": [
    "# k = 11\n",
    "# euclidean distance\n",
    "correct_euc11 = 0\n",
    "accuracy_euc11 = 0\n",
    "for i in range(len(testSet)):\n",
    "    result = kNN_euc_distance(devSet, testSet[i], 11)\n",
    "    res = voteResult(result)\n",
    "    if res == testSet[i].split()[4]:\n",
    "        correct_euc11 += 1\n",
    "accuracy_euc11 = correct_euc11/len(testSet) * 100\n",
    "print(str(accuracy_euc11) + '%')\n",
    "\n",
    "# normalized_euclidean distance\n",
    "correct_nor11 = 0\n",
    "accuracy_nor11 = 0\n",
    "for i in range(len(testSet)):\n",
    "    result = kNN_normalized_euclidean(devSet, testSet[i], 11)\n",
    "    res = voteResult(result)\n",
    "    if res == testSet[i].split()[4]:\n",
    "        correct_nor11 += 1\n",
    "accuracy_nor11 = correct_nor11/len(testSet) * 100\n",
    "print(str(accuracy_nor11) + '%')\n",
    "\n",
    "# cosine_distance\n",
    "correct_cos11 = 0\n",
    "accuracy_cos11 = 0\n",
    "for i in range(len(testSet)):\n",
    "    result = kNN_cos_similarity(devSet, testSet[i], 11)\n",
    "    res = voteResult(result)\n",
    "    if res == testSet[i].split()[4]:\n",
    "        correct_cos11 += 1\n",
    "accuracy_cos11 = correct_cos11/len(testSet) * 100\n",
    "print(str(accuracy_cos11) + '%')"
   ]
  },
  {
   "cell_type": "code",
   "execution_count": 117,
   "metadata": {},
   "outputs": [],
   "source": [
    "euc = [accuracy_euc1, accuracy_euc3, accuracy_euc5, accuracy_euc7, accuracy_euc9, accuracy_euc11]\n",
    "nor = [accuracy_nor1, accuracy_nor3, accuracy_nor5, accuracy_nor7, accuracy_nor9, accuracy_nor11]\n",
    "cos = [accuracy_cos1, accuracy_cos3, accuracy_cos5, accuracy_cos7, accuracy_cos9, accuracy_cos11]"
   ]
  },
  {
   "cell_type": "code",
   "execution_count": 126,
   "metadata": {},
   "outputs": [
    {
     "data": {
      "image/png": "[encoded data removed]",
      "text/plain": [
       "<Figure size 432x288 with 1 Axes>"
      ]
     },
     "metadata": {
      "needs_background": "light"
     },
     "output_type": "display_data"
    }
   ],
   "source": [
    "import matplotlib.pyplot as plt\n",
    "\n",
    "x = range(1, 12, 2)\n",
    "plt.plot(x, euc)\n",
    "plt.plot(x, nor)\n",
    "plt.plot(x, cos)\n",
    "plt.xlim((1, 12))\n",
    "plt.ylim((90,101))\n",
    "plt.xlabel('k')\n",
    "plt.ylabel('accuracy(%)')\n",
    "plt.legend(['euclidean distance', 'normalized_euclidean distance', 'cosine_distance'], loc='lower right')\n",
    "plt.show()"
   ]
  },
  {
   "cell_type": "code",
   "execution_count": 127,
   "metadata": {},
   "outputs": [
    {
     "name": "stdout",
     "output_type": "stream",
     "text": [
      "96.66666666666667%\n",
      "96.66666666666667%\n",
      "100.0%\n"
     ]
    }
   ],
   "source": [
    "# optimal hyperparameter: k = 5\n",
    "# euclidean distance\n",
    "correct_euc5 = 0\n",
    "accuracy_euc5 = 0\n",
    "for i in range(len(testSet)):\n",
    "    result = kNN_euc_distance(devSet, testSet[i], 5)\n",
    "    res = voteResult(result)\n",
    "    if res == testSet[i].split()[4]:\n",
    "        correct_euc5 += 1\n",
    "accuracy_euc5 = correct_euc5/len(testSet) * 100\n",
    "print(str(accuracy_euc5) + '%')\n",
    "\n",
    "# normalized_euclidean distance\n",
    "correct_nor5 = 0\n",
    "accuracy_nor5 = 0\n",
    "for i in range(len(testSet)):\n",
    "    result = kNN_normalized_euclidean(devSet, testSet[i], 5)\n",
    "    res = voteResult(result)\n",
    "    if res == testSet[i].split()[4]:\n",
    "        correct_nor5 += 1\n",
    "accuracy_nor5 = correct_nor5/len(testSet) * 100\n",
    "print(str(accuracy_nor5) + '%')\n",
    "\n",
    "# cosine_distance\n",
    "correct_cos5 = 0\n",
    "accuracy_cos5 = 0\n",
    "for i in range(len(testSet)):\n",
    "    result = kNN_cos_similarity(devSet, testSet[i], 5)\n",
    "    res = voteResult(result)\n",
    "    if res == testSet[i].split()[4]:\n",
    "        correct_cos5 += 1\n",
    "accuracy_cos5 = correct_cos5/len(testSet) * 100\n",
    "print(str(accuracy_cos5) + '%')"
   ]
  },
  {
   "cell_type": "code",
   "execution_count": null,
   "metadata": {},
   "outputs": [],
   "source": []
  },
  {
   "cell_type": "code",
   "execution_count": null,
   "metadata": {},
   "outputs": [],
   "source": []
  }
 ],
 "metadata": {
  "kernelspec": {
   "display_name": "Python 3",
   "language": "python",
   "name": "python3"
  },
  "language_info": {
   "codemirror_mode": {
    "name": "ipython",
    "version": 3
   },
   "file_extension": ".py",
   "mimetype": "text/x-python",
   "name": "python",
   "nbconvert_exporter": "python",
   "pygments_lexer": "ipython3",
   "version": "3.7.7"
  }
 },
 "nbformat": 4,
 "nbformat_minor": 4
}
